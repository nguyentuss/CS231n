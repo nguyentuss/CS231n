num_dev = 500
