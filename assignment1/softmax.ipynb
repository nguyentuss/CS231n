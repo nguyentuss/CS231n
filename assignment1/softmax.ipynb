{
 "cells": [
  {
   "cell_type": "code",
   "execution_count": 38,
   "id": "d8aaae81",
   "metadata": {},
   "outputs": [
    {
     "name": "stdout",
     "output_type": "stream",
     "text": [
      "[INFO] Script found at: D:\\Work\\Study\\AI\\cs231\\assignment1\\cs231n\\datasets\\get_datasets.sh\n",
      "[INFO] Running get_datasets.sh to download CIFAR-10 dataset...\n",
      "[INFO] Dataset download completed.\n",
      "[INFO] Script output:\n",
      "\n",
      "[INFO] Working directory set back to: D:\\Work\\Study\\AI\\cs231\\assignment1\n"
     ]
    }
   ],
   "source": [
    "import os\n",
    "import subprocess\n",
    "\n",
    "# Set the folder paths\n",
    "FOLDERNAME = r'D:\\Work\\Study\\AI\\cs231\\assignment1'\n",
    "DATASET_PATH = os.path.join(FOLDERNAME, 'cs231n', 'datasets')\n",
    "SCRIPT_PATH = os.path.join(DATASET_PATH, 'get_datasets.sh')\n",
    "\n",
    "# Path to Git Bash executable\n",
    "GIT_BASH_PATH = r'C:\\Program Files\\Git\\bin\\bash.exe'  # Update this if your Git Bash is installed elsewhere\n",
    "\n",
    "# Ensure the script exists\n",
    "if not os.path.exists(SCRIPT_PATH):\n",
    "    raise FileNotFoundError(f\"[ERROR] Script not found at: {SCRIPT_PATH}\")\n",
    "else:\n",
    "    print(f\"[INFO] Script found at: {SCRIPT_PATH}\")\n",
    "\n",
    "# Run the script using Git Bash\n",
    "try:\n",
    "    print(\"[INFO] Running get_datasets.sh to download CIFAR-10 dataset...\")\n",
    "    result = subprocess.run(\n",
    "        [GIT_BASH_PATH, '-c', f\"cd '{DATASET_PATH}' && bash get_datasets.sh\"],  # Run the script in Git Bash\n",
    "        check=True,\n",
    "        text=True,\n",
    "        stdout=subprocess.PIPE,\n",
    "        stderr=subprocess.PIPE\n",
    "    )\n",
    "    print(\"[INFO] Dataset download completed.\")\n",
    "    print(\"[INFO] Script output:\")\n",
    "    print(result.stdout)\n",
    "except subprocess.CalledProcessError as e:\n",
    "    print(f\"[ERROR] Script execution failed with return code {e.returncode}\")\n",
    "    print(f\"[ERROR] Command stdout: {e.stdout}\")\n",
    "    print(f\"[ERROR] Command stderr: {e.stderr}\")\n",
    "except Exception as e:\n",
    "    print(f\"[ERROR] An unexpected error occurred: {e}\")\n",
    "finally:\n",
    "    # Return to the assignment folder\n",
    "    os.chdir(FOLDERNAME)\n",
    "    print(f\"[INFO] Working directory set back to: {FOLDERNAME}\")\n"
   ]
  },
  {
   "cell_type": "markdown",
   "id": "e2c3cfa1",
   "metadata": {
    "tags": [
     "pdf-title"
    ]
   },
   "source": [
    "# Softmax exercise\n",
    "\n",
    "*Complete and hand in this completed worksheet (including its outputs and any supporting code outside of the worksheet) with your assignment submission. For more details see the [assignments page](http://vision.stanford.edu/teaching/cs231n/assignments.html) on the course website.*\n",
    "\n",
    "This exercise is analogous to the SVM exercise. You will:\n",
    "\n",
    "- implement a fully-vectorized **loss function** for the Softmax classifier\n",
    "- implement the fully-vectorized expression for its **analytic gradient**\n",
    "- **check your implementation** with numerical gradient\n",
    "- use a validation set to **tune the learning rate and regularization** strength\n",
    "- **optimize** the loss function with **SGD**\n",
    "- **visualize** the final learned weights\n"
   ]
  },
  {
   "cell_type": "code",
   "execution_count": 39,
   "id": "c55a72bf",
   "metadata": {
    "tags": [
     "pdf-ignore"
    ]
   },
   "outputs": [
    {
     "name": "stdout",
     "output_type": "stream",
     "text": [
      "The autoreload extension is already loaded. To reload it, use:\n",
      "  %reload_ext autoreload\n"
     ]
    }
   ],
   "source": [
    "import random\n",
    "import numpy as np\n",
    "from cs231n.data_utils import load_CIFAR10\n",
    "import matplotlib.pyplot as plt\n",
    "\n",
    "%matplotlib inline\n",
    "plt.rcParams['figure.figsize'] = (10.0, 8.0) # set default size of plots\n",
    "plt.rcParams['image.interpolation'] = 'nearest'\n",
    "plt.rcParams['image.cmap'] = 'gray'\n",
    "\n",
    "# for auto-reloading extenrnal modules\n",
    "# see http://stackoverflow.com/questions/1907993/autoreload-of-modules-in-ipython\n",
    "%load_ext autoreload\n",
    "%autoreload 2"
   ]
  },
  {
   "cell_type": "code",
   "execution_count": 40,
   "id": "b99594ec",
   "metadata": {
    "tags": [
     "pdf-ignore"
    ]
   },
   "outputs": [
    {
     "name": "stdout",
     "output_type": "stream",
     "text": [
      "Train data shape:  (49000, 3073)\n",
      "Train labels shape:  (49000,)\n",
      "Validation data shape:  (1000, 3073)\n",
      "Validation labels shape:  (1000,)\n",
      "Test data shape:  (1000, 3073)\n",
      "Test labels shape:  (1000,)\n",
      "dev data shape:  (500, 3073)\n",
      "dev labels shape:  (500,)\n"
     ]
    }
   ],
   "source": [
    "def get_CIFAR10_data(num_training=49000, num_validation=1000, num_test=1000, num_dev=500):\n",
    "    \"\"\"\n",
    "    Load the CIFAR-10 dataset from disk and perform preprocessing to prepare\n",
    "    it for the linear classifier. These are the same steps as we used for the\n",
    "    SVM, but condensed to a single function.  \n",
    "    \"\"\"\n",
    "    # Load the raw CIFAR-10 data\n",
    "    cifar10_dir = 'cs231n/datasets/cifar-10-batches-py'\n",
    "    \n",
    "    # Cleaning up variables to prevent loading data multiple times (which may cause memory issue)\n",
    "    try:\n",
    "       del X_train, y_train\n",
    "       del X_test, y_test\n",
    "       print('Clear previously loaded data.')\n",
    "    except:\n",
    "       pass\n",
    "\n",
    "    X_train, y_train, X_test, y_test = load_CIFAR10(cifar10_dir)\n",
    "    \n",
    "    # subsample the data\n",
    "    mask = list(range(num_training, num_training + num_validation))\n",
    "    X_val = X_train[mask]\n",
    "    y_val = y_train[mask]\n",
    "    mask = list(range(num_training))\n",
    "    X_train = X_train[mask]\n",
    "    y_train = y_train[mask]\n",
    "    mask = list(range(num_test))\n",
    "    X_test = X_test[mask]\n",
    "    y_test = y_test[mask]\n",
    "    mask = np.random.choice(num_training, num_dev, replace=False)\n",
    "    X_dev = X_train[mask]\n",
    "    y_dev = y_train[mask]\n",
    "    \n",
    "    # Preprocessing: reshape the image data into rows\n",
    "    X_train = np.reshape(X_train, (X_train.shape[0], -1))\n",
    "    X_val = np.reshape(X_val, (X_val.shape[0], -1))\n",
    "    X_test = np.reshape(X_test, (X_test.shape[0], -1))\n",
    "    X_dev = np.reshape(X_dev, (X_dev.shape[0], -1))\n",
    "    \n",
    "    # Normalize the data: subtract the mean image\n",
    "    mean_image = np.mean(X_train, axis = 0)\n",
    "    X_train -= mean_image\n",
    "    X_val -= mean_image\n",
    "    X_test -= mean_image\n",
    "    X_dev -= mean_image\n",
    "    \n",
    "    # add bias dimension and transform into columns\n",
    "    X_train = np.hstack([X_train, np.ones((X_train.shape[0], 1))])\n",
    "    X_val = np.hstack([X_val, np.ones((X_val.shape[0], 1))])\n",
    "    X_test = np.hstack([X_test, np.ones((X_test.shape[0], 1))])\n",
    "    X_dev = np.hstack([X_dev, np.ones((X_dev.shape[0], 1))])\n",
    "    \n",
    "    return X_train, y_train, X_val, y_val, X_test, y_test, X_dev, y_dev\n",
    "\n",
    "\n",
    "# Invoke the above function to get our data.\n",
    "X_train, y_train, X_val, y_val, X_test, y_test, X_dev, y_dev = get_CIFAR10_data()\n",
    "print('Train data shape: ', X_train.shape)\n",
    "print('Train labels shape: ', y_train.shape)\n",
    "print('Validation data shape: ', X_val.shape)\n",
    "print('Validation labels shape: ', y_val.shape)\n",
    "print('Test data shape: ', X_test.shape)\n",
    "print('Test labels shape: ', y_test.shape)\n",
    "print('dev data shape: ', X_dev.shape)\n",
    "print('dev labels shape: ', y_dev.shape)"
   ]
  },
  {
   "cell_type": "markdown",
   "id": "2713b7f4",
   "metadata": {},
   "source": [
    "## Softmax Classifier\n",
    "\n",
    "Your code for this section will all be written inside `cs231n/classifiers/softmax.py`.\n"
   ]
  },
  {
   "cell_type": "code",
   "execution_count": 41,
   "id": "6168f67e",
   "metadata": {},
   "outputs": [
    {
     "name": "stdout",
     "output_type": "stream",
     "text": [
      "loss: 2.405034\n",
      "sanity check: 2.302585\n"
     ]
    }
   ],
   "source": [
    "# First implement the naive softmax loss function with nested loops.\n",
    "# Open the file cs231n/classifiers/softmax.py and implement the\n",
    "# softmax_loss_naive function.\n",
    "\n",
    "from cs231n.classifiers.softmax import softmax_loss_naive\n",
    "import time\n",
    "\n",
    "# Generate a random softmax weight matrix and use it to compute the loss.\n",
    "W = np.random.randn(3073, 10) * 0.0001\n",
    "loss, grad = softmax_loss_naive(W, X_dev, y_dev, 0.0)\n",
    "\n",
    "# As a rough sanity check, our loss should be something close to -log(0.1).\n",
    "print('loss: %f' % loss)\n",
    "print('sanity check: %f' % (-np.log(0.1)))"
   ]
  },
  {
   "cell_type": "markdown",
   "id": "b35bc604",
   "metadata": {
    "tags": [
     "pdf-inline"
    ]
   },
   "source": [
    "**Inline Question 1**\n",
    "\n",
    "Why do we expect our loss to be close to -log(0.1)? Explain briefly.**\n",
    "\n",
    "$\\color{blue}{\\textit Your Answer:}$ Because there are 10 classes, so the predict classes is 1/10, but it's just appear when the distribution is uniform, so the data are nearly stable. \n",
    "\n"
   ]
  },
  {
   "cell_type": "code",
   "execution_count": 42,
   "id": "b7bef674",
   "metadata": {},
   "outputs": [
    {
     "name": "stdout",
     "output_type": "stream",
     "text": [
      "(3073, 10)\n",
      "numerical: 2.380589 analytic: 2.380589, relative error: 2.556018e-08\n",
      "numerical: 1.309652 analytic: 1.309652, relative error: 5.808577e-08\n",
      "numerical: -3.111990 analytic: -3.111990, relative error: 3.585370e-09\n",
      "numerical: -2.636019 analytic: -2.636020, relative error: 9.984497e-09\n",
      "numerical: 3.375915 analytic: 3.375915, relative error: 1.523883e-08\n",
      "numerical: 4.221170 analytic: 4.221170, relative error: 2.106951e-08\n",
      "numerical: 0.014175 analytic: 0.014174, relative error: 4.406840e-06\n",
      "numerical: -1.136305 analytic: -1.136305, relative error: 4.739589e-08\n",
      "numerical: -1.557031 analytic: -1.557031, relative error: 9.684350e-09\n",
      "numerical: 1.109092 analytic: 1.109092, relative error: 2.055550e-08\n",
      "(3073, 10)\n",
      "numerical: 0.312472 analytic: 0.312472, relative error: 7.447959e-08\n",
      "numerical: -2.134854 analytic: -2.134854, relative error: 4.432215e-08\n",
      "numerical: -0.338525 analytic: -0.338525, relative error: 1.639109e-07\n",
      "numerical: 1.684690 analytic: 1.684690, relative error: 7.088217e-08\n",
      "numerical: 2.463184 analytic: 2.463184, relative error: 3.085757e-08\n",
      "numerical: 5.433751 analytic: 5.433751, relative error: 1.242783e-08\n",
      "numerical: 1.890299 analytic: 1.890299, relative error: 8.804562e-09\n",
      "numerical: -1.893798 analytic: -1.893798, relative error: 1.578215e-08\n",
      "numerical: 0.298637 analytic: 0.298636, relative error: 2.461585e-07\n",
      "numerical: 2.114012 analytic: 2.114012, relative error: 1.645807e-08\n"
     ]
    }
   ],
   "source": [
    "# Complete the implementation of softmax_loss_naive and implement a (naive)\n",
    "# version of the gradient that uses nested loops.\n",
    "loss, grad = softmax_loss_naive(W, X_dev, y_dev, 0.0)\n",
    "\n",
    "# As we did for the SVM, use numeric gradient checking as a debugging tool.\n",
    "# The numeric gradient should be close to the analytic gradient.\n",
    "from cs231n.gradient_check import grad_check_sparse\n",
    "f = lambda w: softmax_loss_naive(w, X_dev, y_dev, 0.0)[0]\n",
    "grad_numerical = grad_check_sparse(f, W, grad, 10)\n",
    "\n",
    "# similar to SVM case, do another gradient check with regularization\n",
    "loss, grad = softmax_loss_naive(W, X_dev, y_dev, 5e1)\n",
    "f = lambda w: softmax_loss_naive(w, X_dev, y_dev, 5e1)[0]\n",
    "grad_numerical = grad_check_sparse(f, W, grad, 10)"
   ]
  },
  {
   "cell_type": "code",
   "execution_count": 43,
   "id": "3994f8a3",
   "metadata": {},
   "outputs": [
    {
     "name": "stdout",
     "output_type": "stream",
     "text": [
      "naive loss: 2.405034e+00 computed in 0.020915s\n",
      "vectorized loss: 2.405034e+00 computed in 0.001722s\n",
      "Loss difference: 0.000000\n",
      "Gradient difference: 0.000000\n"
     ]
    }
   ],
   "source": [
    "# Now that we have a naive implementation of the softmax loss function and its gradient,\n",
    "# implement a vectorized version in softmax_loss_vectorized.\n",
    "# The two versions should compute the same results, but the vectorized version should be\n",
    "# much faster.\n",
    "tic = time.time()\n",
    "loss_naive, grad_naive = softmax_loss_naive(W, X_dev, y_dev, 0.000005)\n",
    "toc = time.time()\n",
    "print('naive loss: %e computed in %fs' % (loss_naive, toc - tic))\n",
    "\n",
    "from cs231n.classifiers.softmax import softmax_loss_vectorized\n",
    "tic = time.time()\n",
    "loss_vectorized, grad_vectorized = softmax_loss_vectorized(W, X_dev, y_dev, 0.000005)\n",
    "toc = time.time()\n",
    "print('vectorized loss: %e computed in %fs' % (loss_vectorized, toc - tic))\n",
    "\n",
    "# As we did for the SVM, we use the Frobenius norm to compare the two versions\n",
    "# of the gradient.\n",
    "grad_difference = np.linalg.norm(grad_naive - grad_vectorized, ord='fro')\n",
    "print('Loss difference: %f' % np.abs(loss_naive - loss_vectorized))\n",
    "print('Gradient difference: %f' % grad_difference)"
   ]
  },
  {
   "cell_type": "code",
   "execution_count": 44,
   "id": "bd171311",
   "metadata": {
    "tags": [
     "code"
    ],
    "test": "tuning"
   },
   "outputs": [
    {
     "name": "stdout",
     "output_type": "stream",
     "text": [
      "lr 2.000000e-07 reg 5.000000e+03 train accuracy: 0.307408 val accuracy: 0.293000\n",
      "lr 2.000000e-07 reg 6.457748e+03 train accuracy: 0.310959 val accuracy: 0.334000\n",
      "lr 2.000000e-07 reg 8.340503e+03 train accuracy: 0.307327 val accuracy: 0.312000\n",
      "lr 2.000000e-07 reg 1.077217e+04 train accuracy: 0.308612 val accuracy: 0.327000\n",
      "lr 2.000000e-07 reg 1.391280e+04 train accuracy: 0.309102 val accuracy: 0.321000\n",
      "lr 2.000000e-07 reg 1.796907e+04 train accuracy: 0.307592 val accuracy: 0.307000\n",
      "lr 2.000000e-07 reg 2.320794e+04 train accuracy: 0.309837 val accuracy: 0.301000\n",
      "lr 2.000000e-07 reg 2.997421e+04 train accuracy: 0.309041 val accuracy: 0.319000\n",
      "lr 2.000000e-07 reg 3.871318e+04 train accuracy: 0.308388 val accuracy: 0.317000\n",
      "lr 2.000000e-07 reg 5.000000e+04 train accuracy: 0.305306 val accuracy: 0.312000\n",
      "lr 2.092164e-07 reg 5.000000e+03 train accuracy: 0.306531 val accuracy: 0.281000\n",
      "lr 2.092164e-07 reg 6.457748e+03 train accuracy: 0.306612 val accuracy: 0.318000\n",
      "lr 2.092164e-07 reg 8.340503e+03 train accuracy: 0.311061 val accuracy: 0.295000\n",
      "lr 2.092164e-07 reg 1.077217e+04 train accuracy: 0.306878 val accuracy: 0.299000\n",
      "lr 2.092164e-07 reg 1.391280e+04 train accuracy: 0.310694 val accuracy: 0.294000\n",
      "lr 2.092164e-07 reg 1.796907e+04 train accuracy: 0.312163 val accuracy: 0.297000\n",
      "lr 2.092164e-07 reg 2.320794e+04 train accuracy: 0.312408 val accuracy: 0.308000\n",
      "lr 2.092164e-07 reg 2.997421e+04 train accuracy: 0.307122 val accuracy: 0.297000\n",
      "lr 2.092164e-07 reg 3.871318e+04 train accuracy: 0.310939 val accuracy: 0.336000\n",
      "lr 2.092164e-07 reg 5.000000e+04 train accuracy: 0.312061 val accuracy: 0.292000\n",
      "lr 2.188575e-07 reg 5.000000e+03 train accuracy: 0.314714 val accuracy: 0.302000\n",
      "lr 2.188575e-07 reg 6.457748e+03 train accuracy: 0.312327 val accuracy: 0.299000\n",
      "lr 2.188575e-07 reg 8.340503e+03 train accuracy: 0.314633 val accuracy: 0.306000\n",
      "lr 2.188575e-07 reg 1.077217e+04 train accuracy: 0.315143 val accuracy: 0.301000\n",
      "lr 2.188575e-07 reg 1.391280e+04 train accuracy: 0.316490 val accuracy: 0.307000\n",
      "lr 2.188575e-07 reg 1.796907e+04 train accuracy: 0.310347 val accuracy: 0.311000\n",
      "lr 2.188575e-07 reg 2.320794e+04 train accuracy: 0.313898 val accuracy: 0.320000\n",
      "lr 2.188575e-07 reg 2.997421e+04 train accuracy: 0.310816 val accuracy: 0.295000\n",
      "lr 2.188575e-07 reg 3.871318e+04 train accuracy: 0.308388 val accuracy: 0.283000\n",
      "lr 2.188575e-07 reg 5.000000e+04 train accuracy: 0.308776 val accuracy: 0.294000\n",
      "lr 2.289428e-07 reg 5.000000e+03 train accuracy: 0.314735 val accuracy: 0.319000\n",
      "lr 2.289428e-07 reg 6.457748e+03 train accuracy: 0.314918 val accuracy: 0.321000\n",
      "lr 2.289428e-07 reg 8.340503e+03 train accuracy: 0.309735 val accuracy: 0.330000\n",
      "lr 2.289428e-07 reg 1.077217e+04 train accuracy: 0.315265 val accuracy: 0.322000\n",
      "lr 2.289428e-07 reg 1.391280e+04 train accuracy: 0.310347 val accuracy: 0.314000\n",
      "lr 2.289428e-07 reg 1.796907e+04 train accuracy: 0.306082 val accuracy: 0.308000\n",
      "lr 2.289428e-07 reg 2.320794e+04 train accuracy: 0.316327 val accuracy: 0.322000\n",
      "lr 2.289428e-07 reg 2.997421e+04 train accuracy: 0.313449 val accuracy: 0.340000\n",
      "lr 2.289428e-07 reg 3.871318e+04 train accuracy: 0.312531 val accuracy: 0.326000\n",
      "lr 2.289428e-07 reg 5.000000e+04 train accuracy: 0.311837 val accuracy: 0.323000\n",
      "lr 2.394930e-07 reg 5.000000e+03 train accuracy: 0.315653 val accuracy: 0.297000\n",
      "lr 2.394930e-07 reg 6.457748e+03 train accuracy: 0.314286 val accuracy: 0.309000\n",
      "lr 2.394930e-07 reg 8.340503e+03 train accuracy: 0.316347 val accuracy: 0.331000\n",
      "lr 2.394930e-07 reg 1.077217e+04 train accuracy: 0.321918 val accuracy: 0.318000\n",
      "lr 2.394930e-07 reg 1.391280e+04 train accuracy: 0.315857 val accuracy: 0.294000\n",
      "lr 2.394930e-07 reg 1.796907e+04 train accuracy: 0.317245 val accuracy: 0.311000\n",
      "lr 2.394930e-07 reg 2.320794e+04 train accuracy: 0.320102 val accuracy: 0.338000\n",
      "lr 2.394930e-07 reg 2.997421e+04 train accuracy: 0.318490 val accuracy: 0.309000\n",
      "lr 2.394930e-07 reg 3.871318e+04 train accuracy: 0.317286 val accuracy: 0.319000\n",
      "lr 2.394930e-07 reg 5.000000e+04 train accuracy: 0.319061 val accuracy: 0.324000\n",
      "lr 2.505293e-07 reg 5.000000e+03 train accuracy: 0.322204 val accuracy: 0.340000\n",
      "lr 2.505293e-07 reg 6.457748e+03 train accuracy: 0.324245 val accuracy: 0.310000\n",
      "lr 2.505293e-07 reg 8.340503e+03 train accuracy: 0.317898 val accuracy: 0.298000\n",
      "lr 2.505293e-07 reg 1.077217e+04 train accuracy: 0.318020 val accuracy: 0.324000\n",
      "lr 2.505293e-07 reg 1.391280e+04 train accuracy: 0.316918 val accuracy: 0.322000\n",
      "lr 2.505293e-07 reg 1.796907e+04 train accuracy: 0.315551 val accuracy: 0.329000\n",
      "lr 2.505293e-07 reg 2.320794e+04 train accuracy: 0.317612 val accuracy: 0.295000\n",
      "lr 2.505293e-07 reg 2.997421e+04 train accuracy: 0.319939 val accuracy: 0.308000\n",
      "lr 2.505293e-07 reg 3.871318e+04 train accuracy: 0.317653 val accuracy: 0.330000\n",
      "lr 2.505293e-07 reg 5.000000e+04 train accuracy: 0.316694 val accuracy: 0.328000\n",
      "lr 2.620741e-07 reg 5.000000e+03 train accuracy: 0.315020 val accuracy: 0.319000\n",
      "lr 2.620741e-07 reg 6.457748e+03 train accuracy: 0.321082 val accuracy: 0.339000\n",
      "lr 2.620741e-07 reg 8.340503e+03 train accuracy: 0.324143 val accuracy: 0.340000\n",
      "lr 2.620741e-07 reg 1.077217e+04 train accuracy: 0.322694 val accuracy: 0.320000\n",
      "lr 2.620741e-07 reg 1.391280e+04 train accuracy: 0.317469 val accuracy: 0.301000\n",
      "lr 2.620741e-07 reg 1.796907e+04 train accuracy: 0.319735 val accuracy: 0.315000\n",
      "lr 2.620741e-07 reg 2.320794e+04 train accuracy: 0.317714 val accuracy: 0.333000\n",
      "lr 2.620741e-07 reg 2.997421e+04 train accuracy: 0.317061 val accuracy: 0.309000\n",
      "lr 2.620741e-07 reg 3.871318e+04 train accuracy: 0.324898 val accuracy: 0.329000\n",
      "lr 2.620741e-07 reg 5.000000e+04 train accuracy: 0.318714 val accuracy: 0.326000\n",
      "lr 2.741510e-07 reg 5.000000e+03 train accuracy: 0.320551 val accuracy: 0.320000\n",
      "lr 2.741510e-07 reg 6.457748e+03 train accuracy: 0.324286 val accuracy: 0.311000\n",
      "lr 2.741510e-07 reg 8.340503e+03 train accuracy: 0.320469 val accuracy: 0.333000\n",
      "lr 2.741510e-07 reg 1.077217e+04 train accuracy: 0.322429 val accuracy: 0.305000\n",
      "lr 2.741510e-07 reg 1.391280e+04 train accuracy: 0.319714 val accuracy: 0.307000\n",
      "lr 2.741510e-07 reg 1.796907e+04 train accuracy: 0.321429 val accuracy: 0.310000\n",
      "lr 2.741510e-07 reg 2.320794e+04 train accuracy: 0.317531 val accuracy: 0.327000\n",
      "lr 2.741510e-07 reg 2.997421e+04 train accuracy: 0.318653 val accuracy: 0.304000\n",
      "lr 2.741510e-07 reg 3.871318e+04 train accuracy: 0.318510 val accuracy: 0.304000\n",
      "lr 2.741510e-07 reg 5.000000e+04 train accuracy: 0.324551 val accuracy: 0.316000\n",
      "lr 2.867844e-07 reg 5.000000e+03 train accuracy: 0.322510 val accuracy: 0.331000\n",
      "lr 2.867844e-07 reg 6.457748e+03 train accuracy: 0.325408 val accuracy: 0.318000\n",
      "lr 2.867844e-07 reg 8.340503e+03 train accuracy: 0.322735 val accuracy: 0.320000\n",
      "lr 2.867844e-07 reg 1.077217e+04 train accuracy: 0.320163 val accuracy: 0.310000\n",
      "lr 2.867844e-07 reg 1.391280e+04 train accuracy: 0.323102 val accuracy: 0.315000\n",
      "lr 2.867844e-07 reg 1.796907e+04 train accuracy: 0.324122 val accuracy: 0.310000\n",
      "lr 2.867844e-07 reg 2.320794e+04 train accuracy: 0.324184 val accuracy: 0.308000\n",
      "lr 2.867844e-07 reg 2.997421e+04 train accuracy: 0.320347 val accuracy: 0.311000\n",
      "lr 2.867844e-07 reg 3.871318e+04 train accuracy: 0.321041 val accuracy: 0.318000\n",
      "lr 2.867844e-07 reg 5.000000e+04 train accuracy: 0.325122 val accuracy: 0.319000\n",
      "lr 3.000000e-07 reg 5.000000e+03 train accuracy: 0.333429 val accuracy: 0.331000\n",
      "lr 3.000000e-07 reg 6.457748e+03 train accuracy: 0.330347 val accuracy: 0.335000\n",
      "lr 3.000000e-07 reg 8.340503e+03 train accuracy: 0.327980 val accuracy: 0.317000\n",
      "lr 3.000000e-07 reg 1.077217e+04 train accuracy: 0.325592 val accuracy: 0.308000\n",
      "lr 3.000000e-07 reg 1.391280e+04 train accuracy: 0.331898 val accuracy: 0.323000\n",
      "lr 3.000000e-07 reg 1.796907e+04 train accuracy: 0.331347 val accuracy: 0.341000\n",
      "lr 3.000000e-07 reg 2.320794e+04 train accuracy: 0.323265 val accuracy: 0.329000\n",
      "lr 3.000000e-07 reg 2.997421e+04 train accuracy: 0.323816 val accuracy: 0.350000\n",
      "lr 3.000000e-07 reg 3.871318e+04 train accuracy: 0.329469 val accuracy: 0.307000\n",
      "lr 3.000000e-07 reg 5.000000e+04 train accuracy: 0.325510 val accuracy: 0.348000\n",
      "best validation accuracy achieved during cross-validation: 0.350000\n"
     ]
    }
   ],
   "source": [
    "# Use the validation set to tune hyperparameters (regularization strength and\n",
    "# learning rate). You should experiment with different ranges for the learning\n",
    "# rates and regularization strengths; if you are careful you should be able to\n",
    "# get a classification accuracy of over 0.35 on the validation set.\n",
    "\n",
    "from cs231n.classifiers import Softmax\n",
    "results = {}\n",
    "best_val = -1\n",
    "best_softmax = None\n",
    "\n",
    "################################################################################\n",
    "# TODO:                                                                        #\n",
    "# Use the validation set to set the learning rate and regularization strength. #\n",
    "# This should be identical to the validation that you did for the SVM; save    #\n",
    "# the best trained softmax classifer in best_softmax.                          #\n",
    "################################################################################\n",
    "\n",
    "# Provided as a reference. You may or may not want to change these hyperparameters\n",
    "learning_rates = [1e-7, 5e-7]\n",
    "regularization_strengths = [2.5e4, 5e4]\n",
    "\n",
    "# *****START OF YOUR CODE (DO NOT DELETE/MODIFY THIS LINE)*****\n",
    "\n",
    "learning_rates = np.geomspace(2e-7, 3e-7, 10)\n",
    "regularization_strengths = np.geomspace(5e3, 5e4, 10)\n",
    "best_val = -1\n",
    "best_lr = None\n",
    "best_reg = None\n",
    "\n",
    "import itertools\n",
    "\n",
    "for lr, reg in itertools.product(learning_rates, regularization_strengths) :\n",
    "    best_softmax = Softmax()\n",
    "    best_softmax.train(X_train, y_train, lr , reg, num_iters= 3000)\n",
    "\n",
    "    y_pred_val = best_softmax.predict(X_val)\n",
    "    y_pred_train = best_softmax.predict(X_train)\n",
    "    results[(lr,reg)] = np.mean(y_train == y_pred_train), np.mean(y_val == y_pred_val)\n",
    "    if results[(lr,reg)][1] > best_val: \n",
    "        best_val = results[(lr, reg)][1]\n",
    "        best_lr = lr\n",
    "        best_reg = reg\n",
    "\n",
    "    \n",
    "    \n",
    "pass\n",
    "\n",
    "# *****END OF YOUR CODE (DO NOT DELETE/MODIFY THIS LINE)*****\n",
    "    \n",
    "# Print out results.\n",
    "for lr, reg in sorted(results):\n",
    "    train_accuracy, val_accuracy = results[(lr, reg)]\n",
    "    print('lr %e reg %e train accuracy: %f val accuracy: %f' % (\n",
    "                lr, reg, train_accuracy, val_accuracy))\n",
    "    \n",
    "print('best validation accuracy achieved during cross-validation: %f' % best_val)"
   ]
  },
  {
   "cell_type": "code",
   "execution_count": 47,
   "id": "f94a8f12",
   "metadata": {
    "test": "test"
   },
   "outputs": [
    {
     "name": "stdout",
     "output_type": "stream",
     "text": [
      "softmax on raw pixels final test set accuracy: 0.314000\n"
     ]
    }
   ],
   "source": [
    "# evaluate on test set\n",
    "# Evaluate the best softmax on test set\n",
    "y_test_pred = best_softmax.predict(X_test)\n",
    "test_accuracy = np.mean(y_test == y_test_pred)\n",
    "print('softmax on raw pixels final test set accuracy: %f' % (test_accuracy, ))"
   ]
  },
  {
   "cell_type": "markdown",
   "id": "7e2112ee",
   "metadata": {
    "tags": [
     "pdf-inline"
    ]
   },
   "source": [
    "**Inline Question 2** - *True or False*\n",
    "\n",
    "Suppose the overall training loss is defined as the sum of the per-datapoint loss over all training examples. It is possible to add a new datapoint to a training set that would leave the SVM loss unchanged, but this is not the case with the Softmax classifier loss.\n",
    "\n",
    "$\\color{blue}{\\textit Your Answer:}$\n",
    "True\n",
    "\n",
    "$\\color{blue}{\\textit Your Explanation:}$\n",
    "\n",
    "$L_i = \\sum_{j \\neq y_i}max(0,s_j-s_{y_i}+\\Delta)$\n",
    "\n",
    "where \n",
    "$ s_j$ is the score for class $j$\n",
    "\n",
    "$ s_{y_i}$ is the correct class\n",
    "\n",
    "$ \\Delta $ is the margin\n",
    "\n",
    "For a new datapoint to leave the overall loss unchanged, it must contribute zero loss. This happens when\n",
    "$\n",
    "    s_{y_i} \\geq s_j + \\Delta\n",
    "$\n",
    "\n",
    "Otherwise, softmax will change the loss when adding any point, because softmax will care all about the probability\n"
   ]
  },
  {
   "cell_type": "code",
   "execution_count": 48,
   "id": "86d86120",
   "metadata": {},
   "outputs": [
    {
     "data": {
      "image/png": "[encoded data removed]",
      "text/plain": [
       "<Figure size 1000x800 with 10 Axes>"
      ]
     },
     "metadata": {},
     "output_type": "display_data"
    }
   ],
   "source": [
    "# Visualize the learned weights for each class\n",
    "w = best_softmax.W[:-1,:] # strip out the bias\n",
    "w = w.reshape(32, 32, 3, 10)\n",
    "\n",
    "w_min, w_max = np.min(w), np.max(w)\n",
    "\n",
    "classes = ['plane', 'car', 'bird', 'cat', 'deer', 'dog', 'frog', 'horse', 'ship', 'truck']\n",
    "for i in range(10):\n",
    "    plt.subplot(2, 5, i + 1)\n",
    "    \n",
    "    # Rescale the weights to be between 0 and 255\n",
    "    wimg = 255.0 * (w[:, :, :, i].squeeze() - w_min) / (w_max - w_min)\n",
    "    plt.imshow(wimg.astype('uint8'))\n",
    "    plt.axis('off')\n",
    "    plt.title(classes[i])"
   ]
  },
  {
   "cell_type": "code",
   "execution_count": null,
   "id": "24688f99",
   "metadata": {},
   "outputs": [],
   "source": []
  }
 ],
 "metadata": {
  "kernelspec": {
   "display_name": "cs231n",
   "language": "python",
   "name": "python3"
  },
  "language_info": {
   "codemirror_mode": {
    "name": "ipython",
    "version": 3
   },
   "file_extension": ".py",
   "mimetype": "text/x-python",
   "name": "python",
   "nbconvert_exporter": "python",
   "pygments_lexer": "ipython3",
   "version": "3.13.1"
  }
 },
 "nbformat": 4,
 "nbformat_minor": 5
}
